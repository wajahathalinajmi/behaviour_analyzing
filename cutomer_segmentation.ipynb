{
 "cells": [
  {
   "cell_type": "code",
   "execution_count": null,
   "metadata": {},
   "outputs": [],
   "source": [
    "import pandas as pd \n",
    "import numpy as np \n",
    "import matplotlib.pyplot as plt \n",
    "from matplotlib import colors\n",
    "import seaborn as sns"
   ]
  },
  {
   "cell_type": "code",
   "execution_count": null,
   "metadata": {},
   "outputs": [],
   "source": [
    "data = pd.read_csv(r\"\\marketing_campaign.csv\", delimiter=\"\\t\")\n",
    "\n",
    "data"
   ]
  },
  {
   "cell_type": "code",
   "execution_count": null,
   "metadata": {},
   "outputs": [],
   "source": [
    "for col in data.columns:\n",
    "    nulls = data[col].isnull().sum()\n",
    "    print(f\"{col} -> {nulls}\")"
   ]
  },
  {
   "cell_type": "code",
   "execution_count": null,
   "metadata": {},
   "outputs": [],
   "source": [
    "copy_data = data.copy()\n",
    "\n",
    "copy_data = copy_data.dropna()"
   ]
  },
  {
   "cell_type": "code",
   "execution_count": null,
   "metadata": {},
   "outputs": [],
   "source": [
    "for col in copy_data.columns:\n",
    "    nulls = copy_data[col].isnull().sum()\n",
    "    print(f\"{col} -> {nulls}\")"
   ]
  },
  {
   "cell_type": "code",
   "execution_count": null,
   "metadata": {},
   "outputs": [],
   "source": [
    "print(f\"lenght of data before removing nulls: {len(data)}\")\n",
    "print(f\"lenght of data after removing nulls: {len(copy_data)}\")"
   ]
  },
  {
   "cell_type": "code",
   "execution_count": null,
   "metadata": {},
   "outputs": [],
   "source": [
    "for col in copy_data.columns:\n",
    "    uniques = copy_data[col].nunique()\n",
    "    print(f\"{col} -> {uniques}\")"
   ]
  },
  {
   "cell_type": "code",
   "execution_count": null,
   "metadata": {},
   "outputs": [],
   "source": [
    "copy_data['Education'].unique()"
   ]
  },
  {
   "cell_type": "code",
   "execution_count": null,
   "metadata": {},
   "outputs": [],
   "source": [
    "copy_data['Education'] = copy_data['Education'].map({'Graduation' : 'Graduate', 'PhD' : 'PhD' ,'Master' : 'Masters', 'Basic' : 'High_School',  '2n Cycle' : 'Masters'})"
   ]
  },
  {
   "cell_type": "code",
   "execution_count": null,
   "metadata": {},
   "outputs": [],
   "source": [
    "copy_data['Marital_Status'].unique()"
   ]
  },
  {
   "cell_type": "code",
   "execution_count": null,
   "metadata": {},
   "outputs": [],
   "source": [
    "copy_data['Marital_Status'] = copy_data['Marital_Status'].map({'Single' : 'Single', 'Together' : 'Married', 'Married': 'Married', 'Divorced' : 'Single', 'Widow' : 'Single',  'Alone' : 'Single', 'Absurd': 'Single', 'YOLO' : 'Single'})"
   ]
  },
  {
   "cell_type": "code",
   "execution_count": null,
   "metadata": {},
   "outputs": [],
   "source": [
    "copy_data.info()"
   ]
  },
  {
   "cell_type": "code",
   "execution_count": null,
   "metadata": {},
   "outputs": [],
   "source": [
    "copy_data['Dt_Customer'] = pd.to_datetime(copy_data['Dt_Customer' ], format=\"%d-%m-%Y\")"
   ]
  },
  {
   "cell_type": "code",
   "execution_count": null,
   "metadata": {},
   "outputs": [],
   "source": [
    "dates = []\n",
    "\n",
    "for i in copy_data['Dt_Customer']:\n",
    "    i = i.date()\n",
    "    dates.append(i)\n",
    "\n",
    "print(f\"the oldest recorded customer enrolled: {min(dates)}\")\n",
    "print(f\"the newest recorded customer enrolled: {max(dates)}\")\n"
   ]
  },
  {
   "cell_type": "code",
   "execution_count": null,
   "metadata": {},
   "outputs": [],
   "source": [
    "customer_for = []\n",
    "\n",
    "for i in dates:\n",
    "    delta = (i - max(dates)).days\n",
    "    customer_for.append(delta)\n",
    "\n",
    "\n",
    "copy_data['Customer_For'] = customer_for\n",
    "copy_data['Customer_For'] = pd.to_numeric(copy_data['Customer_For'], errors=\"coerce\")"
   ]
  },
  {
   "cell_type": "code",
   "execution_count": null,
   "metadata": {},
   "outputs": [],
   "source": [
    "copy_data['Spent'] = data[\"MntWines\"]+ data[\"MntFruits\"]+ data[\"MntMeatProducts\"]+ data[\"MntFishProducts\"]+ data[\"MntSweetProducts\"]+ data[\"MntGoldProds\"]\n",
    "\n",
    "copy_data['Total_kids'] = copy_data['Kidhome'] + copy_data['Teenhome']\n",
    "\n",
    "copy_data['family_size'] = copy_data['Marital_Status'].map({'Single' : 1, 'Married' : 2}) + copy_data['Total_kids']\n",
    "\n",
    "copy_data['is_parent'] = np.where(copy_data['Total_kids'] > 0, 1, 0)\n",
    "\n",
    "copy_data=copy_data.rename(columns={\"MntWines\": \"Wines\",\"MntFruits\":\"Fruits\",\"MntMeatProducts\":\"Meat\",\"MntFishProducts\":\"Fish\",\"MntSweetProducts\":\"Sweets\",\"MntGoldProds\":\"Gold\"})"
   ]
  },
  {
   "cell_type": "code",
   "execution_count": null,
   "metadata": {},
   "outputs": [],
   "source": [
    "Age = 2021 - copy_data['Year_Birth']\n",
    "copy_data['Age'] = Age"
   ]
  },
  {
   "cell_type": "code",
   "execution_count": null,
   "metadata": {},
   "outputs": [],
   "source": [
    "to_drop = [\"Dt_Customer\", \"Z_CostContact\", \"Z_Revenue\", \"Year_Birth\", \"ID\"]\n",
    "\n",
    "copy_data = copy_data.drop(to_drop, axis=1)"
   ]
  },
  {
   "cell_type": "code",
   "execution_count": null,
   "metadata": {},
   "outputs": [],
   "source": [
    "copy_data"
   ]
  },
  {
   "cell_type": "code",
   "execution_count": null,
   "metadata": {},
   "outputs": [],
   "source": [
    "copy_data.describe()"
   ]
  },
  {
   "cell_type": "code",
   "execution_count": null,
   "metadata": {},
   "outputs": [],
   "source": [
    "to_plot = [ \"Income\", \"Recency\", \"Customer_For\", \"Age\", \"Spent\", \"is_parent\"]\n",
    "sns.set(rc={\"axes.facecolor\":\"#FFF9ED\",\"figure.facecolor\":\"#FFF9ED\"})\n",
    "plt.figure()\n",
    "sns.pairplot(copy_data[to_plot], hue = \"is_parent\", palette= ([\"#682F2F\",\"#F3AB60\"]))\n",
    "\n",
    "plt.show()"
   ]
  },
  {
   "cell_type": "code",
   "execution_count": null,
   "metadata": {},
   "outputs": [],
   "source": [
    "to_remove_outs = ['Income', 'Age']\n",
    "\n",
    "for cols in to_remove_outs:\n",
    "    lower_bound = np.percentile(copy_data[cols], 1)\n",
    "    upper_bound = np.percentile(copy_data[cols], 98)\n",
    "\n",
    "copy_data[cols] = copy_data[cols].clip(lower_bound, upper_bound)"
   ]
  },
  {
   "cell_type": "code",
   "execution_count": null,
   "metadata": {},
   "outputs": [],
   "source": [
    "fig,ax = plt.subplots(figsize=(25,10))\n",
    "\n",
    "corr_mat = copy_data.select_dtypes(include=np.number).corr()\n",
    "sns.heatmap(corr_mat, cmap='RdYlGn', annot=True, center=0)\n",
    "\n",
    "plt.show()"
   ]
  },
  {
   "cell_type": "code",
   "execution_count": null,
   "metadata": {},
   "outputs": [],
   "source": [
    "cat_columns = copy_data.select_dtypes(exclude=np.number).columns\n",
    "print(cat_columns)"
   ]
  },
  {
   "cell_type": "code",
   "execution_count": null,
   "metadata": {},
   "outputs": [],
   "source": [
    "from sklearn.preprocessing import OneHotEncoder\n",
    "encoder = OneHotEncoder(handle_unknown='ignore')\n",
    "encoded_data = encoder.fit_transform(copy_data[cat_columns])\n",
    "\n",
    "one_hot_df = pd.DataFrame(encoded_data.todense(), columns=encoder.get_feature_names_out(cat_columns))\n",
    "\n",
    "dropped_data = copy_data.copy()\n",
    "dropped_data.drop(['Education', 'Marital_Status'],axis=1, inplace=True)\n",
    "final_one_hot = pd.concat([dropped_data, one_hot_df], axis=1)\n",
    "final_one_hot.dropna(inplace=True)"
   ]
  },
  {
   "cell_type": "code",
   "execution_count": null,
   "metadata": {},
   "outputs": [],
   "source": [
    "final_one_hot"
   ]
  },
  {
   "cell_type": "code",
   "execution_count": null,
   "metadata": {},
   "outputs": [],
   "source": [
    "one_hot_df.columns.to_list()"
   ]
  },
  {
   "cell_type": "code",
   "execution_count": null,
   "metadata": {},
   "outputs": [],
   "source": [
    "from sklearn.preprocessing import StandardScaler\n",
    "\n",
    "cols_not_to_use = ['AcceptedCmp3', 'AcceptedCmp4', 'AcceptedCmp5', 'AcceptedCmp1','AcceptedCmp2', 'Complain', 'Response', 'Education_Graduate',\n",
    " 'Education_High_School',\n",
    " 'Education_Masters',\n",
    " 'Education_PhD',\n",
    " 'Marital_Status_Married',\n",
    " 'Marital_Status_Single']\n",
    "\n",
    "scaling_data = final_one_hot.drop(columns = cols_not_to_use)\n",
    "scaler = StandardScaler()\n",
    "scaled_data = scaler.fit_transform(scaling_data)\n",
    "\n",
    "scaled_data = pd.DataFrame(scaled_data, columns = scaling_data.columns)\n",
    "\n",
    "scaled_data"
   ]
  },
  {
   "cell_type": "code",
   "execution_count": null,
   "metadata": {},
   "outputs": [],
   "source": [
    "final_scaled_encoded_Data = pd.concat([scaled_data, one_hot_df], axis=1)\n",
    "\n",
    "final_scaled_encoded_Data.dropna(inplace=True)"
   ]
  },
  {
   "cell_type": "code",
   "execution_count": null,
   "metadata": {},
   "outputs": [],
   "source": [
    "final_scaled_encoded_Data.columns.to_list()"
   ]
  },
  {
   "cell_type": "code",
   "execution_count": null,
   "metadata": {},
   "outputs": [],
   "source": [
    "from sklearn.decomposition import PCA\n",
    "\n",
    "pca = PCA()\n",
    "pca.fit(final_scaled_encoded_Data)\n",
    "\n",
    "explained_variance = pca.explained_variance_ratio_\n",
    "\n",
    "cumulative_variance = explained_variance.cumsum()\n",
    "\n",
    "plt.figure(figsize=(8, 6))\n",
    "plt.plot(range(1, len(explained_variance) + 1), cumulative_variance, marker='o', linestyle='--', color='b')\n",
    "plt.title('Cumulative Explained Variance by PCA Components')\n",
    "plt.xlabel('Number of Components')\n",
    "plt.ylabel('Cumulative Explained Variance')\n",
    "plt.grid(True)\n",
    "plt.show()\n",
    "\n",
    "n_components_95 = next(i for i, cum_var in enumerate(cumulative_variance) if cum_var >= 0.95) + 1\n",
    "print(f'Number of components explaining 95% variance: {n_components_95}')\n"
   ]
  },
  {
   "cell_type": "code",
   "execution_count": null,
   "metadata": {},
   "outputs": [],
   "source": [
    "pca = PCA(n_components=3)\n",
    "reduced_data = pca.fit_transform(final_scaled_encoded_Data)\n",
    "\n",
    "pca_df = pd.DataFrame(reduced_data, columns=['col1', 'col2', 'col3'])\n",
    "\n",
    "pca_df.describe().T\n"
   ]
  },
  {
   "cell_type": "code",
   "execution_count": null,
   "metadata": {},
   "outputs": [],
   "source": [
    "x = pca_df['col1']\n",
    "y = pca_df['col2']\n",
    "z = pca_df['col3']\n",
    "\n",
    "fig = plt.figure(figsize=(8,6))\n",
    "ax = fig.add_subplot(111, projection='3d')\n",
    "ax.scatter(x,y,z, c='maroon', marker='o', alpha=0.5)\n",
    "ax.set_title(\"A 3D Projection Of Data In The Reduced Dimension\")\n",
    "\n",
    "\n",
    "plt.show()"
   ]
  },
  {
   "cell_type": "code",
   "execution_count": null,
   "metadata": {},
   "outputs": [],
   "source": [
    "from sklearn.cluster import KMeans\n",
    "\n",
    "inertia = []\n",
    "k_range = range(1,11)\n",
    "for k in k_range:\n",
    "   clusters = KMeans(n_clusters=k, random_state=42, n_init=10)\n",
    "   clusters.fit(pca_df)\n",
    "   inertia.append(clusters.inertia_)\n",
    "\n",
    "fig, ax = plt.subplots(figsize=(8,6))\n",
    "plt.plot(k_range, inertia, marker = 'o', linestyle ='--')\n",
    "plt.xlabel(\"clusters k\")\n",
    "plt.ylabel(\"inertia\")\n",
    "\n",
    "plt.show()"
   ]
  },
  {
   "cell_type": "code",
   "execution_count": null,
   "metadata": {},
   "outputs": [],
   "source": [
    "from sklearn.cluster import AgglomerativeClustering\n",
    "\n",
    "ac = AgglomerativeClustering(n_clusters=4)\n",
    "labels = ac.fit_predict(pca_df)\n",
    "\n",
    "pca_df['clusters'] = labels\n",
    "copy_data['clusters'] = labels"
   ]
  },
  {
   "cell_type": "code",
   "execution_count": null,
   "metadata": {},
   "outputs": [],
   "source": [
    "fig = plt.figure(figsize=(8,6))\n",
    "ax = plt.subplot(111, projection='3d')\n",
    "cmap = colors.ListedColormap([\"#682F2F\", \"#9E726F\", \"#D6B2B1\", \"#B9C0C9\", \"#9F8A78\", \"#F3AB60\"])\n",
    "ax.scatter(x,y,z, c=pca_df['clusters'], cmap=cmap, marker='o')\n",
    "\n",
    "plt.show()"
   ]
  },
  {
   "cell_type": "code",
   "execution_count": null,
   "metadata": {},
   "outputs": [],
   "source": [
    "from scipy.cluster.hierarchy import dendrogram, linkage\n",
    "\n",
    "linked = linkage(pca_df, method='ward')\n",
    "\n",
    "plt.figure(figsize=(10, 6))\n",
    "dendrogram(linked)\n",
    "plt.title(\"Dendrogram for Agglomerative Clustering\")\n",
    "plt.xlabel(\"Data Points\")\n",
    "plt.ylabel(\"Distance\")\n",
    "plt.show()"
   ]
  },
  {
   "cell_type": "code",
   "execution_count": null,
   "metadata": {},
   "outputs": [],
   "source": [
    "kmeans = KMeans(n_clusters = 4, n_init = 10 , random_state =42)\n",
    "kmean_cluster = kmeans.fit_predict(pca_df)\n",
    "\n",
    "pca_df['Kmeans_Cluster'] = kmean_cluster\n",
    "copy_data['kmeans_Clusters'] = kmean_cluster"
   ]
  },
  {
   "cell_type": "code",
   "execution_count": null,
   "metadata": {},
   "outputs": [],
   "source": [
    "fig = plt.figure(figsize=(8,6))\n",
    "ax = plt.subplot(111, projection='3d')\n",
    "ax.scatter(x,y,z, c=pca_df['Kmeans_Cluster'], cmap=cmap, marker='o')\n",
    "\n",
    "plt.show()"
   ]
  },
  {
   "cell_type": "code",
   "execution_count": null,
   "metadata": {},
   "outputs": [],
   "source": [
    "pal = [\"#682F2F\",\"#B9C0C9\", \"#9F8A78\",\"#F3AB60\"]\n",
    "fig, ax = plt.subplots(figsize=(8,6))\n",
    "sns.countplot(x=copy_data['kmeans_Clusters'], palette=pal )\n",
    "plt.xlabel(\"cluster\")\n",
    "plt.ylabel(\"count\")\n",
    "plt.title(\"cluster dirtribution count\")\n",
    "\n",
    "plt.show()"
   ]
  },
  {
   "cell_type": "code",
   "execution_count": null,
   "metadata": {},
   "outputs": [],
   "source": [
    "copy_data"
   ]
  },
  {
   "cell_type": "code",
   "execution_count": null,
   "metadata": {},
   "outputs": [],
   "source": [
    "sns.scatterplot(x='Spent', y='Income', hue='kmeans_Clusters',data = copy_data,  palette=pal )\n",
    "plt.xlabel(\"spent\")\n",
    "plt.ylabel(\"income\")\n",
    "plt.ylim(0,160000)\n",
    "plt.title(\"income vs spent\")\n",
    "\n",
    "plt.show()"
   ]
  },
  {
   "cell_type": "code",
   "execution_count": null,
   "metadata": {},
   "outputs": [],
   "source": [
    "sns.boxenplot(x='is_parent', y='Spent', hue='kmeans_Clusters',data = copy_data,  palette=pal )\n",
    "plt.xlabel(\"parent\")\n",
    "plt.ylabel(\"spend\")\n",
    "plt.title(\"income vs family\")\n",
    "\n",
    "plt.show()"
   ]
  },
  {
   "cell_type": "code",
   "execution_count": null,
   "metadata": {},
   "outputs": [],
   "source": [
    "sns.boxenplot(x='is_parent', y='Income', hue='kmeans_Clusters',data = copy_data,  palette=pal )\n",
    "plt.xlabel(\"parent\")\n",
    "plt.ylabel(\"income\")\n",
    "plt.title(\"income vs family\")\n",
    "\n",
    "plt.show()"
   ]
  },
  {
   "cell_type": "code",
   "execution_count": null,
   "metadata": {},
   "outputs": [],
   "source": [
    "copy_data['total_promos'] = copy_data[\"AcceptedCmp1\"]+ copy_data[\"AcceptedCmp2\"]+ copy_data[\"AcceptedCmp3\"]+ copy_data[\"AcceptedCmp4\"]+ copy_data[\"AcceptedCmp5\"]\n",
    "\n",
    "sns.countplot(x='total_promos', hue='kmeans_Clusters',data = copy_data,  palette=pal )"
   ]
  },
  {
   "cell_type": "code",
   "execution_count": null,
   "metadata": {},
   "outputs": [],
   "source": [
    "sns.boxenplot(y=\"NumDealsPurchases\", x='kmeans_Clusters',data = copy_data,  palette=pal )"
   ]
  },
  {
   "cell_type": "code",
   "execution_count": null,
   "metadata": {},
   "outputs": [],
   "source": [
    "cols = [\"NumWebPurchases\", \"NumCatalogPurchases\", \"NumStorePurchases\",  \"NumWebVisitsMonth\"]\n",
    "for i in cols:\n",
    "    sns.jointplot(x=copy_data[col],y=copy_data['Spent'], hue=copy_data['kmeans_Clusters'], palette=pal)"
   ]
  },
  {
   "cell_type": "code",
   "execution_count": null,
   "metadata": {},
   "outputs": [],
   "source": [
    "copy_data.columns.to_list()"
   ]
  },
  {
   "cell_type": "code",
   "execution_count": null,
   "metadata": {},
   "outputs": [],
   "source": [
    "to_check = ['Kidhome','Teenhome','Customer_For','Total_kids','family_size',\n",
    "'is_parent','Age']\n",
    "\n",
    "for i in to_check:\n",
    "    sns.jointplot(x=copy_data[i], y=copy_data['Spent'], hue=copy_data['kmeans_Clusters'], kind='kde', palette=pal)"
   ]
  }
 ],
 "metadata": {
  "kernelspec": {
   "display_name": "Python 3",
   "language": "python",
   "name": "python3"
  },
  "language_info": {
   "codemirror_mode": {
    "name": "ipython",
    "version": 3
   },
   "file_extension": ".py",
   "mimetype": "text/x-python",
   "name": "python",
   "nbconvert_exporter": "python",
   "pygments_lexer": "ipython3",
   "version": "3.10.7"
  }
 },
 "nbformat": 4,
 "nbformat_minor": 2
}
